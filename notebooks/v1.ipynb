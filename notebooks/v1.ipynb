{
 "cells": [
  {
   "cell_type": "markdown",
   "metadata": {},
   "source": [
    "<h1 style=\"background: linear-gradient(180deg, #005580 0%, #006699 75%, rgba(0, 153, 230, 1) 100%); color: white; font-family: 'Raleway', sans-serif; padding: 10px 20px; border-radius: 10px; text-align: center; font-weight:500; margin: 20px\">\n",
    "    Modelado Predictivo\n",
    "</h1>\n",
    "Daniela Grisel Flores Quiroz , Carlos Francisco López , Miguel Arturo Romero Carreón , José Armando Ramírez Islas"
   ]
  },
  {
   "cell_type": "code",
   "execution_count": 12,
   "metadata": {},
   "outputs": [],
   "source": [
    "import pandas as pd \n",
    "import matplotlib.pyplot as plt\n",
    "import seaborn as sns"
   ]
  },
  {
   "cell_type": "code",
   "execution_count": 13,
   "metadata": {},
   "outputs": [
    {
     "data": {
      "application/vnd.microsoft.datawrangler.viewer.v0+json": {
       "columns": [
        {
         "name": "index",
         "rawType": "object",
         "type": "string"
        },
        {
         "name": "folioviv",
         "rawType": "float64",
         "type": "float"
        },
        {
         "name": "foliohog",
         "rawType": "float64",
         "type": "float"
        },
        {
         "name": "numren",
         "rawType": "float64",
         "type": "float"
        },
        {
         "name": "ing_1",
         "rawType": "float64",
         "type": "float"
        },
        {
         "name": "ing_tri",
         "rawType": "float64",
         "type": "float"
        }
       ],
       "conversionMethod": "pd.DataFrame",
       "ref": "84b021f2-981e-49f9-b702-def36fac6e2e",
       "rows": [
        [
         "count",
         "394912.0",
         "394912.0",
         "394912.0",
         "394912.0",
         "394912.0"
        ],
        [
         "mean",
         "1619207231.9733663",
         "1.0125496313102667",
         "2.018031865326959",
         "4638.019913297139",
         "9448.521327637553"
        ],
        [
         "std",
         "935586814.8607311",
         "0.12436349871641002",
         "1.3149293474544501",
         "14082.72048142377",
         "31756.617704864486"
        ],
        [
         "min",
         "100013605.0",
         "1.0",
         "1.0",
         "0.0",
         "0.48"
        ],
        [
         "25%",
         "804077905.0",
         "1.0",
         "1.0",
         "330.0",
         "989.01"
        ],
        [
         "50%",
         "1602377805.0",
         "1.0",
         "2.0",
         "2400.0",
         "3239.99"
        ],
        [
         "75%",
         "2404034223.0",
         "1.0",
         "3.0",
         "6000.0",
         "11739.13"
        ],
        [
         "max",
         "3260770718.0",
         "5.0",
         "19.0",
         "3642150.0",
         "10688918.47"
        ]
       ],
       "shape": {
        "columns": 5,
        "rows": 8
       }
      },
      "text/html": [
       "<div>\n",
       "<style scoped>\n",
       "    .dataframe tbody tr th:only-of-type {\n",
       "        vertical-align: middle;\n",
       "    }\n",
       "\n",
       "    .dataframe tbody tr th {\n",
       "        vertical-align: top;\n",
       "    }\n",
       "\n",
       "    .dataframe thead th {\n",
       "        text-align: right;\n",
       "    }\n",
       "</style>\n",
       "<table border=\"1\" class=\"dataframe\">\n",
       "  <thead>\n",
       "    <tr style=\"text-align: right;\">\n",
       "      <th></th>\n",
       "      <th>folioviv</th>\n",
       "      <th>foliohog</th>\n",
       "      <th>numren</th>\n",
       "      <th>ing_1</th>\n",
       "      <th>ing_tri</th>\n",
       "    </tr>\n",
       "  </thead>\n",
       "  <tbody>\n",
       "    <tr>\n",
       "      <th>count</th>\n",
       "      <td>3.949120e+05</td>\n",
       "      <td>394912.000000</td>\n",
       "      <td>394912.000000</td>\n",
       "      <td>3.949120e+05</td>\n",
       "      <td>3.949120e+05</td>\n",
       "    </tr>\n",
       "    <tr>\n",
       "      <th>mean</th>\n",
       "      <td>1.619207e+09</td>\n",
       "      <td>1.012550</td>\n",
       "      <td>2.018032</td>\n",
       "      <td>4.638020e+03</td>\n",
       "      <td>9.448521e+03</td>\n",
       "    </tr>\n",
       "    <tr>\n",
       "      <th>std</th>\n",
       "      <td>9.355868e+08</td>\n",
       "      <td>0.124363</td>\n",
       "      <td>1.314929</td>\n",
       "      <td>1.408272e+04</td>\n",
       "      <td>3.175662e+04</td>\n",
       "    </tr>\n",
       "    <tr>\n",
       "      <th>min</th>\n",
       "      <td>1.000136e+08</td>\n",
       "      <td>1.000000</td>\n",
       "      <td>1.000000</td>\n",
       "      <td>0.000000e+00</td>\n",
       "      <td>4.800000e-01</td>\n",
       "    </tr>\n",
       "    <tr>\n",
       "      <th>25%</th>\n",
       "      <td>8.040779e+08</td>\n",
       "      <td>1.000000</td>\n",
       "      <td>1.000000</td>\n",
       "      <td>3.300000e+02</td>\n",
       "      <td>9.890100e+02</td>\n",
       "    </tr>\n",
       "    <tr>\n",
       "      <th>50%</th>\n",
       "      <td>1.602378e+09</td>\n",
       "      <td>1.000000</td>\n",
       "      <td>2.000000</td>\n",
       "      <td>2.400000e+03</td>\n",
       "      <td>3.239990e+03</td>\n",
       "    </tr>\n",
       "    <tr>\n",
       "      <th>75%</th>\n",
       "      <td>2.404034e+09</td>\n",
       "      <td>1.000000</td>\n",
       "      <td>3.000000</td>\n",
       "      <td>6.000000e+03</td>\n",
       "      <td>1.173913e+04</td>\n",
       "    </tr>\n",
       "    <tr>\n",
       "      <th>max</th>\n",
       "      <td>3.260771e+09</td>\n",
       "      <td>5.000000</td>\n",
       "      <td>19.000000</td>\n",
       "      <td>3.642150e+06</td>\n",
       "      <td>1.068892e+07</td>\n",
       "    </tr>\n",
       "  </tbody>\n",
       "</table>\n",
       "</div>"
      ],
      "text/plain": [
       "           folioviv       foliohog         numren         ing_1       ing_tri\n",
       "count  3.949120e+05  394912.000000  394912.000000  3.949120e+05  3.949120e+05\n",
       "mean   1.619207e+09       1.012550       2.018032  4.638020e+03  9.448521e+03\n",
       "std    9.355868e+08       0.124363       1.314929  1.408272e+04  3.175662e+04\n",
       "min    1.000136e+08       1.000000       1.000000  0.000000e+00  4.800000e-01\n",
       "25%    8.040779e+08       1.000000       1.000000  3.300000e+02  9.890100e+02\n",
       "50%    1.602378e+09       1.000000       2.000000  2.400000e+03  3.239990e+03\n",
       "75%    2.404034e+09       1.000000       3.000000  6.000000e+03  1.173913e+04\n",
       "max    3.260771e+09       5.000000      19.000000  3.642150e+06  1.068892e+07"
      ]
     },
     "execution_count": 13,
     "metadata": {},
     "output_type": "execute_result"
    }
   ],
   "source": [
    "path_ingresos = '../data/conjunto_de_datos_enigh_ns_2020_csv/conjunto_de_datos_ingresos_enigh_2020_ns/conjunto_de_datos/conjunto_de_datos_ingresos_enigh_2020_ns.csv'\n",
    "\n",
    "raw_ingresos = pd.read_csv(path_ingresos)\n",
    "raw_ingresos.describe()"
   ]
  },
  {
   "cell_type": "code",
   "execution_count": 14,
   "metadata": {},
   "outputs": [
    {
     "name": "stdout",
     "output_type": "stream",
     "text": [
      "<class 'pandas.core.frame.DataFrame'>\n",
      "RangeIndex: 394912 entries, 0 to 394911\n",
      "Data columns (total 17 columns):\n",
      " #   Column    Non-Null Count   Dtype  \n",
      "---  ------    --------------   -----  \n",
      " 0   folioviv  394912 non-null  int64  \n",
      " 1   foliohog  394912 non-null  int64  \n",
      " 2   numren    394912 non-null  int64  \n",
      " 3   clave     394912 non-null  object \n",
      " 4   mes_1     394912 non-null  object \n",
      " 5   mes_2     394912 non-null  object \n",
      " 6   mes_3     394912 non-null  object \n",
      " 7   mes_4     394912 non-null  object \n",
      " 8   mes_5     394912 non-null  object \n",
      " 9   mes_6     394912 non-null  object \n",
      " 10  ing_1     394912 non-null  int64  \n",
      " 11  ing_2     394912 non-null  object \n",
      " 12  ing_3     394912 non-null  object \n",
      " 13  ing_4     394912 non-null  object \n",
      " 14  ing_5     394912 non-null  object \n",
      " 15  ing_6     394912 non-null  object \n",
      " 16  ing_tri   394912 non-null  float64\n",
      "dtypes: float64(1), int64(4), object(12)\n",
      "memory usage: 51.2+ MB\n"
     ]
    }
   ],
   "source": [
    "raw_ingresos.info()"
   ]
  },
  {
   "cell_type": "markdown",
   "metadata": {},
   "source": [
    "Tenemos 394912 registros en la tabla, de los cuáles no hay valores nulos aparentemente. Sin embargo puede haber conflicto en los tipos de datos, ya que ing_1 es numérico y todos los demás son objetos (strings). Hay que visualizar mejor los datos de esas columnas para saber cómo tratarlos"
   ]
  },
  {
   "cell_type": "code",
   "execution_count": 15,
   "metadata": {},
   "outputs": [
    {
     "data": {
      "application/vnd.microsoft.datawrangler.viewer.v0+json": {
       "columns": [
        {
         "name": "index",
         "rawType": "int64",
         "type": "integer"
        },
        {
         "name": "ing_1",
         "rawType": "int64",
         "type": "integer"
        },
        {
         "name": "ing_2",
         "rawType": "object",
         "type": "string"
        },
        {
         "name": "ing_3",
         "rawType": "object",
         "type": "string"
        },
        {
         "name": "ing_4",
         "rawType": "object",
         "type": "string"
        },
        {
         "name": "ing_5",
         "rawType": "object",
         "type": "string"
        },
        {
         "name": "ing_6",
         "rawType": "object",
         "type": "string"
        }
       ],
       "conversionMethod": "pd.DataFrame",
       "ref": "566a0494-e472-4e03-93ac-b57ecaf1d482",
       "rows": [
        [
         "0",
         "0",
         "3200",
         "3200",
         "3200",
         "3200",
         "0"
        ],
        [
         "1",
         "300",
         "300",
         "300",
         "300",
         "300",
         "300"
        ],
        [
         "2",
         "0",
         "0",
         "0",
         "0",
         "0",
         "1000"
        ],
        [
         "3",
         "3200",
         "0",
         "0",
         "0",
         "0",
         "0"
        ],
        [
         "4",
         "0",
         "0",
         "11000",
         "0",
         "0",
         "0"
        ],
        [
         "5",
         "0",
         "0",
         "0",
         "3200",
         "0",
         "0"
        ],
        [
         "6",
         "10000",
         "10000",
         "6000",
         "6000",
         "6000",
         "6000"
        ],
        [
         "7",
         "2500",
         " ",
         " ",
         " ",
         " ",
         " "
        ],
        [
         "8",
         "0",
         "0",
         "0",
         "3200",
         "0",
         "0"
        ],
        [
         "9",
         "8000",
         "8000",
         "8000",
         "8000",
         "8000",
         "8000"
        ],
        [
         "10",
         "2000",
         " ",
         " ",
         " ",
         " ",
         " "
        ],
        [
         "11",
         "0",
         "0",
         "5000",
         "0",
         "0",
         "0"
        ],
        [
         "12",
         "0",
         "0",
         "0",
         "0",
         "0",
         "2000"
        ],
        [
         "13",
         "960",
         "668",
         "1080",
         "7570",
         "5160",
         "4653"
        ],
        [
         "14",
         "23000",
         "23000",
         "23000",
         "23000",
         "23000",
         "23000"
        ],
        [
         "15",
         "15000",
         " ",
         " ",
         " ",
         " ",
         " "
        ],
        [
         "16",
         "16000",
         "16000",
         "16000",
         "16000",
         "16000",
         "16000"
        ],
        [
         "17",
         "7500",
         "7500",
         "7500",
         "7500",
         "7500",
         "7500"
        ],
        [
         "18",
         "0",
         "0",
         "0",
         "0",
         "0",
         "5000"
        ],
        [
         "19",
         "10000",
         "10000",
         "10000",
         "10000",
         "10000",
         "10000"
        ],
        [
         "20",
         "3500",
         " ",
         " ",
         " ",
         " ",
         " "
        ],
        [
         "21",
         "8800",
         "8800",
         "8800",
         "8800",
         "8800",
         "8800"
        ],
        [
         "22",
         "4400",
         "5500",
         "4400",
         "4400",
         "5500",
         "4400"
        ],
        [
         "23",
         "3000",
         " ",
         " ",
         " ",
         " ",
         " "
        ],
        [
         "24",
         "2500",
         "2500",
         "2500",
         "2500",
         "2500",
         "2500"
        ],
        [
         "25",
         "5200",
         "0",
         "0",
         "0",
         "5200",
         "0"
        ],
        [
         "26",
         "100",
         "0",
         "0",
         "0",
         "0",
         "0"
        ],
        [
         "27",
         "2834",
         "3634",
         "2834",
         "3634",
         "2834",
         "1934"
        ],
        [
         "28",
         "0",
         "5200",
         "0",
         "0",
         "0",
         "5200"
        ],
        [
         "29",
         "10",
         "10",
         "10",
         "10",
         "10",
         "10"
        ],
        [
         "30",
         "5240",
         "0",
         "0",
         "5240",
         "0",
         "0"
        ],
        [
         "31",
         "47031",
         "58996",
         "45796",
         "58996",
         "47031",
         "58996"
        ],
        [
         "32",
         "4000",
         "4000",
         "4000",
         "4000",
         "4000",
         "4000"
        ],
        [
         "33",
         "0",
         "5000",
         "0",
         "0",
         "0",
         "0"
        ],
        [
         "34",
         "4500",
         "4500",
         "4500",
         "4500",
         "4500",
         "4500"
        ],
        [
         "35",
         "2500",
         "0",
         "0",
         "0",
         "2500",
         "0"
        ],
        [
         "36",
         "2000",
         "0",
         "0",
         "2000",
         "0",
         "0"
        ],
        [
         "37",
         "0",
         "0",
         "0",
         "5000",
         "0",
         "0"
        ],
        [
         "38",
         "0",
         "0",
         "0",
         "0",
         "800",
         "0"
        ],
        [
         "39",
         "0",
         "5000",
         "0",
         "0",
         "0",
         "5000"
        ],
        [
         "40",
         "4000",
         "4000",
         "4000",
         "0",
         "0",
         "0"
        ],
        [
         "41",
         "0",
         "0",
         "0",
         "5600",
         "5600",
         "5600"
        ],
        [
         "42",
         "900",
         "900",
         "900",
         "900",
         "900",
         "900"
        ],
        [
         "43",
         "1000",
         "0",
         "0",
         "0",
         "0",
         "0"
        ],
        [
         "44",
         "0",
         "5000",
         "0",
         "0",
         "0",
         "0"
        ],
        [
         "45",
         "8000",
         "6000",
         "6000",
         "5000",
         "5000",
         "5000"
        ],
        [
         "46",
         "20",
         "20",
         "20",
         "20",
         "20",
         "20"
        ],
        [
         "47",
         "4000",
         "0",
         "0",
         "0",
         "4000",
         "0"
        ],
        [
         "48",
         "2000",
         "2000",
         "2000",
         "2000",
         "2000",
         "2000"
        ],
        [
         "49",
         "1310",
         "0",
         "1310",
         "0",
         "1310",
         "0"
        ]
       ],
       "shape": {
        "columns": 6,
        "rows": 394912
       }
      },
      "text/html": [
       "<div>\n",
       "<style scoped>\n",
       "    .dataframe tbody tr th:only-of-type {\n",
       "        vertical-align: middle;\n",
       "    }\n",
       "\n",
       "    .dataframe tbody tr th {\n",
       "        vertical-align: top;\n",
       "    }\n",
       "\n",
       "    .dataframe thead th {\n",
       "        text-align: right;\n",
       "    }\n",
       "</style>\n",
       "<table border=\"1\" class=\"dataframe\">\n",
       "  <thead>\n",
       "    <tr style=\"text-align: right;\">\n",
       "      <th></th>\n",
       "      <th>ing_1</th>\n",
       "      <th>ing_2</th>\n",
       "      <th>ing_3</th>\n",
       "      <th>ing_4</th>\n",
       "      <th>ing_5</th>\n",
       "      <th>ing_6</th>\n",
       "    </tr>\n",
       "  </thead>\n",
       "  <tbody>\n",
       "    <tr>\n",
       "      <th>0</th>\n",
       "      <td>0</td>\n",
       "      <td>3200</td>\n",
       "      <td>3200</td>\n",
       "      <td>3200</td>\n",
       "      <td>3200</td>\n",
       "      <td>0</td>\n",
       "    </tr>\n",
       "    <tr>\n",
       "      <th>1</th>\n",
       "      <td>300</td>\n",
       "      <td>300</td>\n",
       "      <td>300</td>\n",
       "      <td>300</td>\n",
       "      <td>300</td>\n",
       "      <td>300</td>\n",
       "    </tr>\n",
       "    <tr>\n",
       "      <th>2</th>\n",
       "      <td>0</td>\n",
       "      <td>0</td>\n",
       "      <td>0</td>\n",
       "      <td>0</td>\n",
       "      <td>0</td>\n",
       "      <td>1000</td>\n",
       "    </tr>\n",
       "    <tr>\n",
       "      <th>3</th>\n",
       "      <td>3200</td>\n",
       "      <td>0</td>\n",
       "      <td>0</td>\n",
       "      <td>0</td>\n",
       "      <td>0</td>\n",
       "      <td>0</td>\n",
       "    </tr>\n",
       "    <tr>\n",
       "      <th>4</th>\n",
       "      <td>0</td>\n",
       "      <td>0</td>\n",
       "      <td>11000</td>\n",
       "      <td>0</td>\n",
       "      <td>0</td>\n",
       "      <td>0</td>\n",
       "    </tr>\n",
       "    <tr>\n",
       "      <th>...</th>\n",
       "      <td>...</td>\n",
       "      <td>...</td>\n",
       "      <td>...</td>\n",
       "      <td>...</td>\n",
       "      <td>...</td>\n",
       "      <td>...</td>\n",
       "    </tr>\n",
       "    <tr>\n",
       "      <th>394907</th>\n",
       "      <td>2800</td>\n",
       "      <td>1700</td>\n",
       "      <td>0</td>\n",
       "      <td>0</td>\n",
       "      <td>0</td>\n",
       "      <td>0</td>\n",
       "    </tr>\n",
       "    <tr>\n",
       "      <th>394908</th>\n",
       "      <td>500</td>\n",
       "      <td>500</td>\n",
       "      <td>500</td>\n",
       "      <td>1000</td>\n",
       "      <td>1000</td>\n",
       "      <td>500</td>\n",
       "    </tr>\n",
       "    <tr>\n",
       "      <th>394909</th>\n",
       "      <td>4800</td>\n",
       "      <td>4800</td>\n",
       "      <td>4800</td>\n",
       "      <td>4800</td>\n",
       "      <td>4800</td>\n",
       "      <td>4800</td>\n",
       "    </tr>\n",
       "    <tr>\n",
       "      <th>394910</th>\n",
       "      <td>7000</td>\n",
       "      <td>7000</td>\n",
       "      <td>7000</td>\n",
       "      <td>7000</td>\n",
       "      <td>7000</td>\n",
       "      <td>7000</td>\n",
       "    </tr>\n",
       "    <tr>\n",
       "      <th>394911</th>\n",
       "      <td>10000</td>\n",
       "      <td></td>\n",
       "      <td></td>\n",
       "      <td></td>\n",
       "      <td></td>\n",
       "      <td></td>\n",
       "    </tr>\n",
       "  </tbody>\n",
       "</table>\n",
       "<p>394912 rows × 6 columns</p>\n",
       "</div>"
      ],
      "text/plain": [
       "        ing_1 ing_2  ing_3 ing_4 ing_5 ing_6\n",
       "0           0  3200   3200  3200  3200     0\n",
       "1         300   300    300   300   300   300\n",
       "2           0     0      0     0     0  1000\n",
       "3        3200     0      0     0     0     0\n",
       "4           0     0  11000     0     0     0\n",
       "...       ...   ...    ...   ...   ...   ...\n",
       "394907   2800  1700      0     0     0     0\n",
       "394908    500   500    500  1000  1000   500\n",
       "394909   4800  4800   4800  4800  4800  4800\n",
       "394910   7000  7000   7000  7000  7000  7000\n",
       "394911  10000                               \n",
       "\n",
       "[394912 rows x 6 columns]"
      ]
     },
     "execution_count": 15,
     "metadata": {},
     "output_type": "execute_result"
    }
   ],
   "source": [
    "cols_conflicto = [f'ing_{x}' for x in range(1, 7)]\n",
    "raw_ingresos[cols_conflicto]"
   ]
  },
  {
   "cell_type": "markdown",
   "metadata": {},
   "source": [
    "Hay un problema con los espacios en blanco. Al ser espacios en blanco y no propiamente nulos, el tipo de dato cambia y genera este conflicto. Pero ¿por qué están esos nulos?\n",
    "\n",
    "NOTA: Tratar los nulos de una manera más compleja\n"
   ]
  },
  {
   "cell_type": "code",
   "execution_count": 16,
   "metadata": {},
   "outputs": [],
   "source": [
    "for column in raw_ingresos.columns.values:\n",
    "    raw_ingresos[column] = raw_ingresos[column].replace('', None)\n",
    "    raw_ingresos[column] = raw_ingresos[column].replace(' ', None)"
   ]
  },
  {
   "cell_type": "code",
   "execution_count": 17,
   "metadata": {},
   "outputs": [
    {
     "data": {
      "text/plain": [
       "folioviv     0.000000\n",
       "foliohog     0.000000\n",
       "numren       0.000000\n",
       "clave        0.000000\n",
       "mes_1       16.728031\n",
       "mes_2       16.728031\n",
       "mes_3       16.728031\n",
       "mes_4       16.728031\n",
       "mes_5       16.728031\n",
       "mes_6       16.728031\n",
       "ing_1        0.000000\n",
       "ing_2       16.728031\n",
       "ing_3       16.728031\n",
       "ing_4       16.728031\n",
       "ing_5       16.728031\n",
       "ing_6       16.728031\n",
       "ing_tri      0.000000\n",
       "dtype: float64"
      ]
     },
     "execution_count": 17,
     "metadata": {},
     "output_type": "execute_result"
    }
   ],
   "source": [
    "n_filas = raw_ingresos.shape[0]\n",
    "n_nulos = raw_ingresos.isnull().sum()\n",
    "p_nulos = n_nulos * 100 / n_filas\n",
    "\n",
    "p_nulos"
   ]
  },
  {
   "cell_type": "markdown",
   "metadata": {},
   "source": [
    "Ahora convertimos el tipo de dato object a float"
   ]
  },
  {
   "cell_type": "code",
   "execution_count": 18,
   "metadata": {},
   "outputs": [],
   "source": [
    "raw_ingresos[cols_conflicto] = raw_ingresos[cols_conflicto].astype(float)"
   ]
  },
  {
   "cell_type": "code",
   "execution_count": 19,
   "metadata": {},
   "outputs": [
    {
     "data": {
      "application/vnd.microsoft.datawrangler.viewer.v0+json": {
       "columns": [
        {
         "name": "index",
         "rawType": "object",
         "type": "string"
        },
        {
         "name": "ing_1",
         "rawType": "float64",
         "type": "float"
        },
        {
         "name": "ing_2",
         "rawType": "float64",
         "type": "float"
        },
        {
         "name": "ing_3",
         "rawType": "float64",
         "type": "float"
        },
        {
         "name": "ing_4",
         "rawType": "float64",
         "type": "float"
        },
        {
         "name": "ing_5",
         "rawType": "float64",
         "type": "float"
        },
        {
         "name": "ing_6",
         "rawType": "float64",
         "type": "float"
        },
        {
         "name": "ing_tri",
         "rawType": "float64",
         "type": "float"
        }
       ],
       "conversionMethod": "pd.DataFrame",
       "ref": "328d76e1-121d-49d5-964e-9e36082c06ce",
       "rows": [
        [
         "count",
         "394912.0",
         "328851.0",
         "328851.0",
         "328851.0",
         "328851.0",
         "328851.0",
         "394912.0"
        ],
        [
         "mean",
         "4638.019913297139",
         "3826.2570799541436",
         "3737.3195520159584",
         "3619.290177010257",
         "3489.0712784817442",
         "3581.2380561409273",
         "9448.521327637553"
        ],
        [
         "std",
         "14082.72048142377",
         "13302.155452987969",
         "13472.001036933223",
         "19890.941759448153",
         "12044.947748518876",
         "14205.642967547492",
         "31756.617704864486"
        ],
        [
         "min",
         "0.0",
         "0.0",
         "0.0",
         "0.0",
         "0.0",
         "0.0",
         "0.48"
        ],
        [
         "25%",
         "330.0",
         "0.0",
         "0.0",
         "0.0",
         "0.0",
         "0.0",
         "989.01"
        ],
        [
         "50%",
         "2400.0",
         "1500.0",
         "1410.0",
         "1180.0",
         "1000.0",
         "1029.0",
         "3239.99"
        ],
        [
         "75%",
         "6000.0",
         "5050.0",
         "5000.0",
         "5000.0",
         "4800.0",
         "5000.0",
         "11739.13"
        ],
        [
         "max",
         "3642150.0",
         "3642150.0",
         "3642150.0",
         "8000000.0",
         "3642150.0",
         "3642150.0",
         "10688918.47"
        ]
       ],
       "shape": {
        "columns": 7,
        "rows": 8
       }
      },
      "text/html": [
       "<div>\n",
       "<style scoped>\n",
       "    .dataframe tbody tr th:only-of-type {\n",
       "        vertical-align: middle;\n",
       "    }\n",
       "\n",
       "    .dataframe tbody tr th {\n",
       "        vertical-align: top;\n",
       "    }\n",
       "\n",
       "    .dataframe thead th {\n",
       "        text-align: right;\n",
       "    }\n",
       "</style>\n",
       "<table border=\"1\" class=\"dataframe\">\n",
       "  <thead>\n",
       "    <tr style=\"text-align: right;\">\n",
       "      <th></th>\n",
       "      <th>ing_1</th>\n",
       "      <th>ing_2</th>\n",
       "      <th>ing_3</th>\n",
       "      <th>ing_4</th>\n",
       "      <th>ing_5</th>\n",
       "      <th>ing_6</th>\n",
       "      <th>ing_tri</th>\n",
       "    </tr>\n",
       "  </thead>\n",
       "  <tbody>\n",
       "    <tr>\n",
       "      <th>count</th>\n",
       "      <td>3.949120e+05</td>\n",
       "      <td>3.288510e+05</td>\n",
       "      <td>3.288510e+05</td>\n",
       "      <td>3.288510e+05</td>\n",
       "      <td>3.288510e+05</td>\n",
       "      <td>3.288510e+05</td>\n",
       "      <td>3.949120e+05</td>\n",
       "    </tr>\n",
       "    <tr>\n",
       "      <th>mean</th>\n",
       "      <td>4.638020e+03</td>\n",
       "      <td>3.826257e+03</td>\n",
       "      <td>3.737320e+03</td>\n",
       "      <td>3.619290e+03</td>\n",
       "      <td>3.489071e+03</td>\n",
       "      <td>3.581238e+03</td>\n",
       "      <td>9.448521e+03</td>\n",
       "    </tr>\n",
       "    <tr>\n",
       "      <th>std</th>\n",
       "      <td>1.408272e+04</td>\n",
       "      <td>1.330216e+04</td>\n",
       "      <td>1.347200e+04</td>\n",
       "      <td>1.989094e+04</td>\n",
       "      <td>1.204495e+04</td>\n",
       "      <td>1.420564e+04</td>\n",
       "      <td>3.175662e+04</td>\n",
       "    </tr>\n",
       "    <tr>\n",
       "      <th>min</th>\n",
       "      <td>0.000000e+00</td>\n",
       "      <td>0.000000e+00</td>\n",
       "      <td>0.000000e+00</td>\n",
       "      <td>0.000000e+00</td>\n",
       "      <td>0.000000e+00</td>\n",
       "      <td>0.000000e+00</td>\n",
       "      <td>4.800000e-01</td>\n",
       "    </tr>\n",
       "    <tr>\n",
       "      <th>25%</th>\n",
       "      <td>3.300000e+02</td>\n",
       "      <td>0.000000e+00</td>\n",
       "      <td>0.000000e+00</td>\n",
       "      <td>0.000000e+00</td>\n",
       "      <td>0.000000e+00</td>\n",
       "      <td>0.000000e+00</td>\n",
       "      <td>9.890100e+02</td>\n",
       "    </tr>\n",
       "    <tr>\n",
       "      <th>50%</th>\n",
       "      <td>2.400000e+03</td>\n",
       "      <td>1.500000e+03</td>\n",
       "      <td>1.410000e+03</td>\n",
       "      <td>1.180000e+03</td>\n",
       "      <td>1.000000e+03</td>\n",
       "      <td>1.029000e+03</td>\n",
       "      <td>3.239990e+03</td>\n",
       "    </tr>\n",
       "    <tr>\n",
       "      <th>75%</th>\n",
       "      <td>6.000000e+03</td>\n",
       "      <td>5.050000e+03</td>\n",
       "      <td>5.000000e+03</td>\n",
       "      <td>5.000000e+03</td>\n",
       "      <td>4.800000e+03</td>\n",
       "      <td>5.000000e+03</td>\n",
       "      <td>1.173913e+04</td>\n",
       "    </tr>\n",
       "    <tr>\n",
       "      <th>max</th>\n",
       "      <td>3.642150e+06</td>\n",
       "      <td>3.642150e+06</td>\n",
       "      <td>3.642150e+06</td>\n",
       "      <td>8.000000e+06</td>\n",
       "      <td>3.642150e+06</td>\n",
       "      <td>3.642150e+06</td>\n",
       "      <td>1.068892e+07</td>\n",
       "    </tr>\n",
       "  </tbody>\n",
       "</table>\n",
       "</div>"
      ],
      "text/plain": [
       "              ing_1         ing_2         ing_3         ing_4         ing_5  \\\n",
       "count  3.949120e+05  3.288510e+05  3.288510e+05  3.288510e+05  3.288510e+05   \n",
       "mean   4.638020e+03  3.826257e+03  3.737320e+03  3.619290e+03  3.489071e+03   \n",
       "std    1.408272e+04  1.330216e+04  1.347200e+04  1.989094e+04  1.204495e+04   \n",
       "min    0.000000e+00  0.000000e+00  0.000000e+00  0.000000e+00  0.000000e+00   \n",
       "25%    3.300000e+02  0.000000e+00  0.000000e+00  0.000000e+00  0.000000e+00   \n",
       "50%    2.400000e+03  1.500000e+03  1.410000e+03  1.180000e+03  1.000000e+03   \n",
       "75%    6.000000e+03  5.050000e+03  5.000000e+03  5.000000e+03  4.800000e+03   \n",
       "max    3.642150e+06  3.642150e+06  3.642150e+06  8.000000e+06  3.642150e+06   \n",
       "\n",
       "              ing_6       ing_tri  \n",
       "count  3.288510e+05  3.949120e+05  \n",
       "mean   3.581238e+03  9.448521e+03  \n",
       "std    1.420564e+04  3.175662e+04  \n",
       "min    0.000000e+00  4.800000e-01  \n",
       "25%    0.000000e+00  9.890100e+02  \n",
       "50%    1.029000e+03  3.239990e+03  \n",
       "75%    5.000000e+03  1.173913e+04  \n",
       "max    3.642150e+06  1.068892e+07  "
      ]
     },
     "execution_count": 19,
     "metadata": {},
     "output_type": "execute_result"
    }
   ],
   "source": [
    "raw_ingresos.drop(['folioviv', 'foliohog', 'numren'], axis=1).describe()"
   ]
  },
  {
   "cell_type": "code",
   "execution_count": 29,
   "metadata": {},
   "outputs": [],
   "source": [
    "# Dataframe para análisis de los ingresos\n",
    "df_ingresos = raw_ingresos.drop(['folioviv', 'foliohog', 'numren', 'clave', 'mes_1', 'mes_2', 'mes_3', 'mes_4', 'mes_5', 'mes_6', 'ing_tri'], axis=1).copy()"
   ]
  },
  {
   "cell_type": "code",
   "execution_count": 30,
   "metadata": {},
   "outputs": [
    {
     "data": {
      "application/vnd.microsoft.datawrangler.viewer.v0+json": {
       "columns": [
        {
         "name": "index",
         "rawType": "object",
         "type": "string"
        },
        {
         "name": "ing_1",
         "rawType": "float64",
         "type": "float"
        },
        {
         "name": "ing_2",
         "rawType": "float64",
         "type": "float"
        },
        {
         "name": "ing_3",
         "rawType": "float64",
         "type": "float"
        },
        {
         "name": "ing_4",
         "rawType": "float64",
         "type": "float"
        },
        {
         "name": "ing_5",
         "rawType": "float64",
         "type": "float"
        },
        {
         "name": "ing_6",
         "rawType": "float64",
         "type": "float"
        }
       ],
       "conversionMethod": "pd.DataFrame",
       "ref": "62d9cff3-da28-4039-93e1-02b686031ab3",
       "rows": [
        [
         "count",
         "394912.0",
         "328851.0",
         "328851.0",
         "328851.0",
         "328851.0",
         "328851.0"
        ],
        [
         "mean",
         "4638.019913297139",
         "3826.2570799541436",
         "3737.3195520159584",
         "3619.290177010257",
         "3489.0712784817442",
         "3581.2380561409273"
        ],
        [
         "std",
         "14082.72048142377",
         "13302.155452987969",
         "13472.001036933223",
         "19890.941759448153",
         "12044.947748518876",
         "14205.642967547492"
        ],
        [
         "min",
         "0.0",
         "0.0",
         "0.0",
         "0.0",
         "0.0",
         "0.0"
        ],
        [
         "25%",
         "330.0",
         "0.0",
         "0.0",
         "0.0",
         "0.0",
         "0.0"
        ],
        [
         "50%",
         "2400.0",
         "1500.0",
         "1410.0",
         "1180.0",
         "1000.0",
         "1029.0"
        ],
        [
         "75%",
         "6000.0",
         "5050.0",
         "5000.0",
         "5000.0",
         "4800.0",
         "5000.0"
        ],
        [
         "max",
         "3642150.0",
         "3642150.0",
         "3642150.0",
         "8000000.0",
         "3642150.0",
         "3642150.0"
        ]
       ],
       "shape": {
        "columns": 6,
        "rows": 8
       }
      },
      "text/html": [
       "<div>\n",
       "<style scoped>\n",
       "    .dataframe tbody tr th:only-of-type {\n",
       "        vertical-align: middle;\n",
       "    }\n",
       "\n",
       "    .dataframe tbody tr th {\n",
       "        vertical-align: top;\n",
       "    }\n",
       "\n",
       "    .dataframe thead th {\n",
       "        text-align: right;\n",
       "    }\n",
       "</style>\n",
       "<table border=\"1\" class=\"dataframe\">\n",
       "  <thead>\n",
       "    <tr style=\"text-align: right;\">\n",
       "      <th></th>\n",
       "      <th>ing_1</th>\n",
       "      <th>ing_2</th>\n",
       "      <th>ing_3</th>\n",
       "      <th>ing_4</th>\n",
       "      <th>ing_5</th>\n",
       "      <th>ing_6</th>\n",
       "    </tr>\n",
       "  </thead>\n",
       "  <tbody>\n",
       "    <tr>\n",
       "      <th>count</th>\n",
       "      <td>3.949120e+05</td>\n",
       "      <td>3.288510e+05</td>\n",
       "      <td>3.288510e+05</td>\n",
       "      <td>3.288510e+05</td>\n",
       "      <td>3.288510e+05</td>\n",
       "      <td>3.288510e+05</td>\n",
       "    </tr>\n",
       "    <tr>\n",
       "      <th>mean</th>\n",
       "      <td>4.638020e+03</td>\n",
       "      <td>3.826257e+03</td>\n",
       "      <td>3.737320e+03</td>\n",
       "      <td>3.619290e+03</td>\n",
       "      <td>3.489071e+03</td>\n",
       "      <td>3.581238e+03</td>\n",
       "    </tr>\n",
       "    <tr>\n",
       "      <th>std</th>\n",
       "      <td>1.408272e+04</td>\n",
       "      <td>1.330216e+04</td>\n",
       "      <td>1.347200e+04</td>\n",
       "      <td>1.989094e+04</td>\n",
       "      <td>1.204495e+04</td>\n",
       "      <td>1.420564e+04</td>\n",
       "    </tr>\n",
       "    <tr>\n",
       "      <th>min</th>\n",
       "      <td>0.000000e+00</td>\n",
       "      <td>0.000000e+00</td>\n",
       "      <td>0.000000e+00</td>\n",
       "      <td>0.000000e+00</td>\n",
       "      <td>0.000000e+00</td>\n",
       "      <td>0.000000e+00</td>\n",
       "    </tr>\n",
       "    <tr>\n",
       "      <th>25%</th>\n",
       "      <td>3.300000e+02</td>\n",
       "      <td>0.000000e+00</td>\n",
       "      <td>0.000000e+00</td>\n",
       "      <td>0.000000e+00</td>\n",
       "      <td>0.000000e+00</td>\n",
       "      <td>0.000000e+00</td>\n",
       "    </tr>\n",
       "    <tr>\n",
       "      <th>50%</th>\n",
       "      <td>2.400000e+03</td>\n",
       "      <td>1.500000e+03</td>\n",
       "      <td>1.410000e+03</td>\n",
       "      <td>1.180000e+03</td>\n",
       "      <td>1.000000e+03</td>\n",
       "      <td>1.029000e+03</td>\n",
       "    </tr>\n",
       "    <tr>\n",
       "      <th>75%</th>\n",
       "      <td>6.000000e+03</td>\n",
       "      <td>5.050000e+03</td>\n",
       "      <td>5.000000e+03</td>\n",
       "      <td>5.000000e+03</td>\n",
       "      <td>4.800000e+03</td>\n",
       "      <td>5.000000e+03</td>\n",
       "    </tr>\n",
       "    <tr>\n",
       "      <th>max</th>\n",
       "      <td>3.642150e+06</td>\n",
       "      <td>3.642150e+06</td>\n",
       "      <td>3.642150e+06</td>\n",
       "      <td>8.000000e+06</td>\n",
       "      <td>3.642150e+06</td>\n",
       "      <td>3.642150e+06</td>\n",
       "    </tr>\n",
       "  </tbody>\n",
       "</table>\n",
       "</div>"
      ],
      "text/plain": [
       "              ing_1         ing_2         ing_3         ing_4         ing_5  \\\n",
       "count  3.949120e+05  3.288510e+05  3.288510e+05  3.288510e+05  3.288510e+05   \n",
       "mean   4.638020e+03  3.826257e+03  3.737320e+03  3.619290e+03  3.489071e+03   \n",
       "std    1.408272e+04  1.330216e+04  1.347200e+04  1.989094e+04  1.204495e+04   \n",
       "min    0.000000e+00  0.000000e+00  0.000000e+00  0.000000e+00  0.000000e+00   \n",
       "25%    3.300000e+02  0.000000e+00  0.000000e+00  0.000000e+00  0.000000e+00   \n",
       "50%    2.400000e+03  1.500000e+03  1.410000e+03  1.180000e+03  1.000000e+03   \n",
       "75%    6.000000e+03  5.050000e+03  5.000000e+03  5.000000e+03  4.800000e+03   \n",
       "max    3.642150e+06  3.642150e+06  3.642150e+06  8.000000e+06  3.642150e+06   \n",
       "\n",
       "              ing_6  \n",
       "count  3.288510e+05  \n",
       "mean   3.581238e+03  \n",
       "std    1.420564e+04  \n",
       "min    0.000000e+00  \n",
       "25%    0.000000e+00  \n",
       "50%    1.029000e+03  \n",
       "75%    5.000000e+03  \n",
       "max    3.642150e+06  "
      ]
     },
     "execution_count": 30,
     "metadata": {},
     "output_type": "execute_result"
    }
   ],
   "source": [
    "df_ingresos.describe()"
   ]
  },
  {
   "cell_type": "code",
   "execution_count": 32,
   "metadata": {},
   "outputs": [
    {
     "data": {
      "application/vnd.microsoft.datawrangler.viewer.v0+json": {
       "columns": [
        {
         "name": "index",
         "rawType": "object",
         "type": "string"
        },
        {
         "name": "ing_1",
         "rawType": "float64",
         "type": "float"
        },
        {
         "name": "ing_2",
         "rawType": "float64",
         "type": "float"
        },
        {
         "name": "ing_3",
         "rawType": "float64",
         "type": "float"
        },
        {
         "name": "ing_4",
         "rawType": "float64",
         "type": "float"
        },
        {
         "name": "ing_5",
         "rawType": "float64",
         "type": "float"
        },
        {
         "name": "ing_6",
         "rawType": "float64",
         "type": "float"
        }
       ],
       "conversionMethod": "pd.DataFrame",
       "ref": "b65866d7-7423-41ba-ac3a-c7ad5f2a4a89",
       "rows": [
        [
         "count",
         "361063.0",
         "302997.0",
         "302997.0",
         "302997.0",
         "302997.0",
         "302997.0"
        ],
        [
         "mean",
         "3040.3471139385647",
         "2594.987722650719",
         "2513.4756812773726",
         "2422.737099707258",
         "2355.699630689413",
         "2399.548246352274"
        ],
        [
         "std",
         "3148.1780495860435",
         "3049.299011580692",
         "3034.5234717122344",
         "3023.6142822280963",
         "3000.008703622675",
         "3025.2737141213524"
        ],
        [
         "min",
         "0.0",
         "0.0",
         "0.0",
         "0.0",
         "0.0",
         "0.0"
        ],
        [
         "25%",
         "300.0",
         "0.0",
         "0.0",
         "0.0",
         "0.0",
         "0.0"
        ],
        [
         "50%",
         "2000.0",
         "1215.0",
         "1100.0",
         "1000.0",
         "916.0",
         "1000.0"
        ],
        [
         "75%",
         "5000.0",
         "4800.0",
         "4500.0",
         "4200.0",
         "4000.0",
         "4090.0"
        ],
        [
         "max",
         "14500.0",
         "12620.0",
         "12500.0",
         "12500.0",
         "12000.0",
         "12500.0"
        ]
       ],
       "shape": {
        "columns": 6,
        "rows": 8
       }
      },
      "text/html": [
       "<div>\n",
       "<style scoped>\n",
       "    .dataframe tbody tr th:only-of-type {\n",
       "        vertical-align: middle;\n",
       "    }\n",
       "\n",
       "    .dataframe tbody tr th {\n",
       "        vertical-align: top;\n",
       "    }\n",
       "\n",
       "    .dataframe thead th {\n",
       "        text-align: right;\n",
       "    }\n",
       "</style>\n",
       "<table border=\"1\" class=\"dataframe\">\n",
       "  <thead>\n",
       "    <tr style=\"text-align: right;\">\n",
       "      <th></th>\n",
       "      <th>ing_1</th>\n",
       "      <th>ing_2</th>\n",
       "      <th>ing_3</th>\n",
       "      <th>ing_4</th>\n",
       "      <th>ing_5</th>\n",
       "      <th>ing_6</th>\n",
       "    </tr>\n",
       "  </thead>\n",
       "  <tbody>\n",
       "    <tr>\n",
       "      <th>count</th>\n",
       "      <td>361063.000000</td>\n",
       "      <td>302997.000000</td>\n",
       "      <td>302997.000000</td>\n",
       "      <td>302997.000000</td>\n",
       "      <td>302997.000000</td>\n",
       "      <td>302997.000000</td>\n",
       "    </tr>\n",
       "    <tr>\n",
       "      <th>mean</th>\n",
       "      <td>3040.347114</td>\n",
       "      <td>2594.987723</td>\n",
       "      <td>2513.475681</td>\n",
       "      <td>2422.737100</td>\n",
       "      <td>2355.699631</td>\n",
       "      <td>2399.548246</td>\n",
       "    </tr>\n",
       "    <tr>\n",
       "      <th>std</th>\n",
       "      <td>3148.178050</td>\n",
       "      <td>3049.299012</td>\n",
       "      <td>3034.523472</td>\n",
       "      <td>3023.614282</td>\n",
       "      <td>3000.008704</td>\n",
       "      <td>3025.273714</td>\n",
       "    </tr>\n",
       "    <tr>\n",
       "      <th>min</th>\n",
       "      <td>0.000000</td>\n",
       "      <td>0.000000</td>\n",
       "      <td>0.000000</td>\n",
       "      <td>0.000000</td>\n",
       "      <td>0.000000</td>\n",
       "      <td>0.000000</td>\n",
       "    </tr>\n",
       "    <tr>\n",
       "      <th>25%</th>\n",
       "      <td>300.000000</td>\n",
       "      <td>0.000000</td>\n",
       "      <td>0.000000</td>\n",
       "      <td>0.000000</td>\n",
       "      <td>0.000000</td>\n",
       "      <td>0.000000</td>\n",
       "    </tr>\n",
       "    <tr>\n",
       "      <th>50%</th>\n",
       "      <td>2000.000000</td>\n",
       "      <td>1215.000000</td>\n",
       "      <td>1100.000000</td>\n",
       "      <td>1000.000000</td>\n",
       "      <td>916.000000</td>\n",
       "      <td>1000.000000</td>\n",
       "    </tr>\n",
       "    <tr>\n",
       "      <th>75%</th>\n",
       "      <td>5000.000000</td>\n",
       "      <td>4800.000000</td>\n",
       "      <td>4500.000000</td>\n",
       "      <td>4200.000000</td>\n",
       "      <td>4000.000000</td>\n",
       "      <td>4090.000000</td>\n",
       "    </tr>\n",
       "    <tr>\n",
       "      <th>max</th>\n",
       "      <td>14500.000000</td>\n",
       "      <td>12620.000000</td>\n",
       "      <td>12500.000000</td>\n",
       "      <td>12500.000000</td>\n",
       "      <td>12000.000000</td>\n",
       "      <td>12500.000000</td>\n",
       "    </tr>\n",
       "  </tbody>\n",
       "</table>\n",
       "</div>"
      ],
      "text/plain": [
       "               ing_1          ing_2          ing_3          ing_4  \\\n",
       "count  361063.000000  302997.000000  302997.000000  302997.000000   \n",
       "mean     3040.347114    2594.987723    2513.475681    2422.737100   \n",
       "std      3148.178050    3049.299012    3034.523472    3023.614282   \n",
       "min         0.000000       0.000000       0.000000       0.000000   \n",
       "25%       300.000000       0.000000       0.000000       0.000000   \n",
       "50%      2000.000000    1215.000000    1100.000000    1000.000000   \n",
       "75%      5000.000000    4800.000000    4500.000000    4200.000000   \n",
       "max     14500.000000   12620.000000   12500.000000   12500.000000   \n",
       "\n",
       "               ing_5          ing_6  \n",
       "count  302997.000000  302997.000000  \n",
       "mean     2355.699631    2399.548246  \n",
       "std      3000.008704    3025.273714  \n",
       "min         0.000000       0.000000  \n",
       "25%         0.000000       0.000000  \n",
       "50%       916.000000    1000.000000  \n",
       "75%      4000.000000    4090.000000  \n",
       "max     12000.000000   12500.000000  "
      ]
     },
     "execution_count": 32,
     "metadata": {},
     "output_type": "execute_result"
    }
   ],
   "source": [
    "# Calcular Q1 (primer cuartil) y Q3 (tercer cuartil) para cada columna\n",
    "Q1 = df_ingresos.quantile(0.25)\n",
    "Q3 = df_ingresos.quantile(0.75)\n",
    "\n",
    "# Calcular el IQR (Rango Intercuartílico)\n",
    "IQR = Q3 - Q1\n",
    "\n",
    "# Definir los límites inferior y superior para detectar outliers\n",
    "limite_inferior = Q1 - 1.5 * IQR\n",
    "limite_superior = Q3 + 1.5 * IQR\n",
    "\n",
    "# Filtrar los datos que se encuentran dentro de estos límites\n",
    "df_ingresos = df_ingresos[~((df_ingresos < limite_inferior) | (df_ingresos > limite_superior)).any(axis=1)]\n",
    "\n",
    "# Mostrar el DataFrame sin outliers\n",
    "df_ingresos.describe()"
   ]
  },
  {
   "cell_type": "code",
   "execution_count": 33,
   "metadata": {},
   "outputs": [
    {
     "data": {
      "image/png": "[encoded data removed]",
      "text/plain": [
       "<Figure size 1500x1500 with 6 Axes>"
      ]
     },
     "metadata": {},
     "output_type": "display_data"
    }
   ],
   "source": [
    "# Definir el tamaño de la cuadrícula\n",
    "n_cols = len(df_ingresos.columns)\n",
    "n_filas = (n_cols // 3) + 1\n",
    "\n",
    "# Crear la figura y los ejes\n",
    "fig, axes = plt.subplots(n_filas, 3, figsize=(15, n_filas * 5))\n",
    "axes = axes.flatten()\n",
    "\n",
    "# Graficar cada columna en un histograma\n",
    "for i, col in enumerate(df_ingresos.columns):\n",
    "    sns.violinplot(x=df_ingresos[col], ax=axes[i])\n",
    "    axes[i].set_title(col)\n",
    "    axes[i].set_xlabel('')\n",
    "    axes[i].set_ylabel('')\n",
    "\n",
    "# Eliminar ejes vacíos\n",
    "for j in range(i + 1, len(axes)):\n",
    "    fig.delaxes(axes[j])\n",
    "\n",
    "# Ajustar el layout\n",
    "plt.tight_layout()\n",
    "plt.show()"
   ]
  }
 ],
 "metadata": {
  "kernelspec": {
   "display_name": "Entorno ESCOM",
   "language": "python",
   "name": "python3"
  },
  "language_info": {
   "codemirror_mode": {
    "name": "ipython",
    "version": 3
   },
   "file_extension": ".py",
   "mimetype": "text/x-python",
   "name": "python",
   "nbconvert_exporter": "python",
   "pygments_lexer": "ipython3",
   "version": "3.10.12"
  }
 },
 "nbformat": 4,
 "nbformat_minor": 2
}
